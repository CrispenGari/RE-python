{
 "cells": [
  {
   "cell_type": "markdown",
   "id": "hydraulic-cisco",
   "metadata": {},
   "source": [
    "## Regexp Python"
   ]
  },
  {
   "cell_type": "code",
   "execution_count": 1,
   "id": "domestic-compatibility",
   "metadata": {},
   "outputs": [],
   "source": [
    "import re"
   ]
  },
  {
   "cell_type": "code",
   "execution_count": 2,
   "id": "concerned-turkey",
   "metadata": {},
   "outputs": [],
   "source": [
    "text = \"\"\"\n",
    "Hello this is a quick walk through on regular expression in python.\n",
    "123.456.7897\n",
    "123*456*7897\n",
    "123-456-7897\n",
    "900-567-8909\n",
    "800-568-1567\n",
    "+27 652 305 879\n",
    "+263 568 189 1899\n",
    "+263-568-189-1899\n",
    "+263_568_189_1899\n",
    "+188 789 089 7816\n",
    "*188 789 089 7816\n",
    "https://www.google.com\n",
    "https://whatsapp.com\n",
    "http://localhost.edu\n",
    "https://zero-5.li\n",
    "sizaro_56@gmail.com\n",
    "zakatMario@yahoo.com\n",
    "faraicup@word.org\n",
    "faraio@green.edu\n",
    "Mr John\n",
    "Mr. Petter\n",
    "Mrs T\n",
    "Ms Gonorio\n",
    "Mrs Makosi\n",
    "\"\"\"\n",
    "sent = \"Start working with regular expression you will enjoy these.\""
   ]
  },
  {
   "cell_type": "markdown",
   "id": "european-maine",
   "metadata": {},
   "source": [
    "> We are going to use the above text to match regexp patterns"
   ]
  },
  {
   "cell_type": "code",
   "execution_count": 3,
   "id": "composed-parade",
   "metadata": {},
   "outputs": [
    {
     "name": "stdout",
     "output_type": "stream",
     "text": [
      "<re.Match object; span=(0, 5), match='Start'>\n"
     ]
    }
   ],
   "source": [
    "pattern = re.compile(r'^start', re.I)\n",
    "matches = re.finditer(pattern, sent)\n",
    "for match in matches:\n",
    "    print(match)"
   ]
  },
  {
   "cell_type": "code",
   "execution_count": 4,
   "id": "advised-parking",
   "metadata": {},
   "outputs": [
    {
     "name": "stdout",
     "output_type": "stream",
     "text": [
      "<re.Match object; span=(53, 59), match='these.'>\n"
     ]
    }
   ],
   "source": [
    "pattern = re.compile(r'these.$', re.I)\n",
    "matches = re.finditer(pattern, sent)\n",
    "for match in matches:\n",
    "    print(match)"
   ]
  },
  {
   "cell_type": "code",
   "execution_count": 5,
   "id": "medium-reserve",
   "metadata": {},
   "outputs": [
    {
     "name": "stdout",
     "output_type": "stream",
     "text": [
      "<re.Match object; span=(0, 1), match='S'>\n"
     ]
    }
   ],
   "source": [
    "pattern = re.compile(r'^[start|Start]')\n",
    "matches = re.finditer(pattern, sent)\n",
    "for match in matches:\n",
    "    print(match)"
   ]
  },
  {
   "cell_type": "code",
   "execution_count": 6,
   "id": "proprietary-queue",
   "metadata": {},
   "outputs": [
    {
     "name": "stdout",
     "output_type": "stream",
     "text": [
      "<re.Match object; span=(241, 243), match='tt'>\n",
      "<re.Match object; span=(264, 266), match='tt'>\n",
      "<re.Match object; span=(285, 287), match='tt'>\n",
      "<re.Match object; span=(306, 308), match='tt'>\n",
      "<re.Match object; span=(413, 415), match='tt'>\n"
     ]
    }
   ],
   "source": [
    "pattern = re.compile(r't{2,3}')\n",
    "matches = re.finditer(pattern, text)\n",
    "for match in matches:\n",
    "    print(match)"
   ]
  },
  {
   "cell_type": "code",
   "execution_count": 7,
   "id": "running-vegetable",
   "metadata": {},
   "outputs": [
    {
     "name": "stdout",
     "output_type": "stream",
     "text": [
      "<re.Match object; span=(241, 243), match='tt'>\n",
      "<re.Match object; span=(264, 266), match='tt'>\n",
      "<re.Match object; span=(285, 287), match='tt'>\n",
      "<re.Match object; span=(306, 308), match='tt'>\n",
      "<re.Match object; span=(413, 415), match='tt'>\n"
     ]
    }
   ],
   "source": [
    "pattern = re.compile(r't{2,3}?')\n",
    "matches = re.finditer(pattern, text)\n",
    "for match in matches:\n",
    "    print(match)"
   ]
  },
  {
   "cell_type": "code",
   "execution_count": 8,
   "id": "domestic-yahoo",
   "metadata": {},
   "outputs": [
    {
     "name": "stdout",
     "output_type": "stream",
     "text": [
      "<re.Match object; span=(399, 401), match='Mr'>\n",
      "<re.Match object; span=(407, 409), match='Mr'>\n"
     ]
    }
   ],
   "source": [
    "pattern = re.compile(r'\\bMr\\b')\n",
    "matches = re.finditer(pattern, text)\n",
    "for match in matches:\n",
    "    print(match)"
   ]
  },
  {
   "cell_type": "code",
   "execution_count": 9,
   "id": "assigned-surveillance",
   "metadata": {},
   "outputs": [
    {
     "name": "stdout",
     "output_type": "stream",
     "text": [
      "<re.Match object; span=(418, 420), match='Mr'>\n",
      "<re.Match object; span=(435, 437), match='Mr'>\n"
     ]
    }
   ],
   "source": [
    "pattern = re.compile(r'\\bMr\\B')\n",
    "matches = re.finditer(pattern, text)\n",
    "for match in matches:\n",
    "    print(match)"
   ]
  },
  {
   "cell_type": "code",
   "execution_count": 10,
   "id": "stupid-tennessee",
   "metadata": {},
   "outputs": [
    {
     "name": "stdout",
     "output_type": "stream",
     "text": [
      "<re.Match object; span=(95, 107), match='123-456-7897'>\n",
      "<re.Match object; span=(108, 120), match='900-567-8909'>\n",
      "<re.Match object; span=(121, 133), match='800-568-1567'>\n"
     ]
    }
   ],
   "source": [
    "pattern = re.compile(r'\\d{3}-[1-8]{3}.\\d{4}')\n",
    "matches = re.finditer(pattern, text)\n",
    "for match in matches:\n",
    "    print(match) # Matches phone number of form ddd-ddd-dddd"
   ]
  },
  {
   "cell_type": "markdown",
   "id": "enormous-constant",
   "metadata": {},
   "source": [
    "#### Names \n",
    "> Let's create a pattert that matches names such as Mr ..."
   ]
  },
  {
   "cell_type": "code",
   "execution_count": 11,
   "id": "aboriginal-version",
   "metadata": {},
   "outputs": [
    {
     "name": "stdout",
     "output_type": "stream",
     "text": [
      "<re.Match object; span=(399, 406), match='Mr John'> ,  Mr John\n",
      "<re.Match object; span=(407, 417), match='Mr. Petter'> ,  Mr. Petter\n",
      "<re.Match object; span=(418, 423), match='Mrs T'> ,  Mrs T\n",
      "<re.Match object; span=(424, 434), match='Ms Gonorio'> ,  Ms Gonorio\n",
      "<re.Match object; span=(435, 445), match='Mrs Makosi'> ,  Mrs Makosi\n"
     ]
    }
   ],
   "source": [
    "matches = re.finditer(r'^M(r)?s?.?\\s\\w+', text, re.MULTILINE | re.I)\n",
    "\n",
    "for match in matches:\n",
    "    start, stop = match.span()\n",
    "    print(match, \", \",text[start: stop] )"
   ]
  },
  {
   "cell_type": "markdown",
   "id": "golden-ethiopia",
   "metadata": {},
   "source": [
    "#### Phone numbers \n",
    "> Let's create a pattert that matches phone numbers"
   ]
  },
  {
   "cell_type": "code",
   "execution_count": 12,
   "id": "suffering-organization",
   "metadata": {},
   "outputs": [
    {
     "name": "stdout",
     "output_type": "stream",
     "text": [
      "<re.Match object; span=(69, 81), match='123.456.7897'> ,  123.456.7897\n",
      "<re.Match object; span=(82, 94), match='123*456*7897'> ,  123*456*7897\n",
      "<re.Match object; span=(95, 107), match='123-456-7897'> ,  123-456-7897\n",
      "<re.Match object; span=(108, 120), match='900-567-8909'> ,  900-567-8909\n",
      "<re.Match object; span=(121, 133), match='800-568-1567'> ,  800-568-1567\n",
      "<re.Match object; span=(134, 145), match='+27 652 305'> ,  +27 652 305\n",
      "<re.Match object; span=(150, 162), match='+263 568 189'> ,  +263 568 189\n",
      "<re.Match object; span=(168, 180), match='+263-568-189'> ,  +263-568-189\n",
      "<re.Match object; span=(186, 198), match='+263_568_189'> ,  +263_568_189\n",
      "<re.Match object; span=(204, 216), match='+188 789 089'> ,  +188 789 089\n",
      "<re.Match object; span=(222, 234), match='*188 789 089'> ,  *188 789 089\n"
     ]
    }
   ],
   "source": [
    "pattern = re.compile(r'[+*.]?\\d{2,3}.[0-9]{3}.[0-9]{3,4}')\n",
    "\n",
    "matches = re.finditer(pattern, text)\n",
    "\n",
    "for match in matches:\n",
    "    start, stop = match.span()\n",
    "    print(match, \", \",text[start: stop] )\n"
   ]
  },
  {
   "cell_type": "markdown",
   "id": "cosmetic-tonight",
   "metadata": {},
   "source": [
    "#### Emails\n",
    "> Let's create a pattert that matches emails"
   ]
  },
  {
   "cell_type": "code",
   "execution_count": 13,
   "id": "ongoing-chosen",
   "metadata": {},
   "outputs": [
    {
     "name": "stdout",
     "output_type": "stream",
     "text": [
      "<re.Match object; span=(323, 342), match='sizaro_56@gmail.com'> ,  sizaro_56@gmail.com\n",
      "<re.Match object; span=(343, 363), match='zakatMario@yahoo.com'> ,  zakatMario@yahoo.com\n",
      "<re.Match object; span=(364, 381), match='faraicup@word.org'> ,  faraicup@word.org\n",
      "<re.Match object; span=(382, 398), match='faraio@green.edu'> ,  faraio@green.edu\n"
     ]
    }
   ],
   "source": [
    "matches = re.finditer(r'([a-zA-Z0-9_])+@[a-zA-Z]+\\.\\w+', text)\n",
    "for match in matches:\n",
    "    start, stop = match.span()\n",
    "    print(match, \", \",text[start: stop] )"
   ]
  },
  {
   "cell_type": "markdown",
   "id": "efficient-accounting",
   "metadata": {},
   "source": [
    "#### Names \n",
    "> Let's create a pattert that matches urls"
   ]
  },
  {
   "cell_type": "code",
   "execution_count": 14,
   "id": "hourly-spending",
   "metadata": {},
   "outputs": [
    {
     "name": "stdout",
     "output_type": "stream",
     "text": [
      "<re.Match object; span=(240, 258), match='https://www.google'> ,  https://www.google\n",
      "<re.Match object; span=(263, 283), match='https://whatsapp.com'> ,  https://whatsapp.com\n",
      "<re.Match object; span=(284, 304), match='http://localhost.edu'> ,  http://localhost.edu\n",
      "<re.Match object; span=(305, 322), match='https://zero-5.li'> ,  https://zero-5.li\n"
     ]
    }
   ],
   "source": [
    "matches = re.finditer(r'https?://([a-zA-Z0-9-]?)+(.[a-zA-Z]+)', text)\n",
    "for match in matches:\n",
    "    start, stop = match.span()\n",
    "    print(match, \", \",text[start: stop] )"
   ]
  },
  {
   "cell_type": "markdown",
   "id": "otherwise-plaza",
   "metadata": {},
   "source": [
    "#### findAll(A, B)\n",
    "> Matches all instances of an expression A in a string B and returns them in a list"
   ]
  },
  {
   "cell_type": "code",
   "execution_count": 15,
   "id": "available-province",
   "metadata": {},
   "outputs": [
    {
     "data": {
      "text/plain": [
       "'this, is, this'"
      ]
     },
     "execution_count": 15,
     "metadata": {},
     "output_type": "execute_result"
    }
   ],
   "source": [
    "matches = re.findall(r'\\w+[is]+', \"this is a regex this\")\n",
    "\n",
    "\", \".join(matches)"
   ]
  },
  {
   "cell_type": "markdown",
   "id": "difficult-quality",
   "metadata": {},
   "source": [
    "#### search(A, B)\n",
    "> Matches the first instance of an expression A in a string B, and returns it as a re match object."
   ]
  },
  {
   "cell_type": "code",
   "execution_count": 16,
   "id": "proof-situation",
   "metadata": {},
   "outputs": [
    {
     "data": {
      "text/plain": [
       "<re.Match object; span=(323, 342), match='sizaro_56@gmail.com'>"
      ]
     },
     "execution_count": 16,
     "metadata": {},
     "output_type": "execute_result"
    }
   ],
   "source": [
    "# search for the first email address in the text sting\n",
    "matches = re.search(r'([a-zA-Z0-9_])+@[a-zA-Z]+\\.\\w+', text, re.MULTILINE)\n",
    "matches"
   ]
  },
  {
   "cell_type": "markdown",
   "id": "employed-badge",
   "metadata": {},
   "source": [
    "#### split(A, B)\n",
    "> Split a string B into a list using the delimiter A"
   ]
  },
  {
   "cell_type": "code",
   "execution_count": 17,
   "id": "assigned-roommate",
   "metadata": {},
   "outputs": [
    {
     "data": {
      "text/plain": [
       "['Th', ' ', ' a work of mag', 'c.']"
      ]
     },
     "execution_count": 17,
     "metadata": {},
     "output_type": "execute_result"
    }
   ],
   "source": [
    "matches = re.split(r'is?', \"This is a work of magic.\")\n",
    "matches"
   ]
  },
  {
   "cell_type": "markdown",
   "id": "smart-employer",
   "metadata": {},
   "source": [
    "#### re.sub(A, B, C)\n",
    "> Replace A with B in the string C."
   ]
  },
  {
   "cell_type": "code",
   "execution_count": 18,
   "id": "preceding-symposium",
   "metadata": {},
   "outputs": [
    {
     "data": {
      "text/plain": [
       "'That at a work of magic.'"
      ]
     },
     "execution_count": 18,
     "metadata": {},
     "output_type": "execute_result"
    }
   ],
   "source": [
    "matches = re.sub(r'is', 'at', \"This is a work of magic.\")\n",
    "matches"
   ]
  },
  {
   "cell_type": "markdown",
   "id": "naked-flavor",
   "metadata": {},
   "source": [
    "#### re.match(A, B)\n",
    ">Returns the first occurrence of A in B"
   ]
  },
  {
   "cell_type": "code",
   "execution_count": 19,
   "id": "smaller-bathroom",
   "metadata": {},
   "outputs": [
    {
     "data": {
      "text/plain": [
       "<re.Match object; span=(0, 4), match='This'>"
      ]
     },
     "execution_count": 19,
     "metadata": {},
     "output_type": "execute_result"
    }
   ],
   "source": [
    "matches = re.match(r'This', \"This is a work of magic.\")\n",
    "matches"
   ]
  },
  {
   "cell_type": "markdown",
   "id": "junior-brooklyn",
   "metadata": {},
   "source": [
    "> Reference \n",
    "* [Docs](https://docs.python.org/3/library/re.html)"
   ]
  }
 ],
 "metadata": {
  "kernelspec": {
   "display_name": "Python 3",
   "language": "python",
   "name": "python3"
  },
  "language_info": {
   "codemirror_mode": {
    "name": "ipython",
    "version": 3
   },
   "file_extension": ".py",
   "mimetype": "text/x-python",
   "name": "python",
   "nbconvert_exporter": "python",
   "pygments_lexer": "ipython3",
   "version": "3.8.5"
  }
 },
 "nbformat": 4,
 "nbformat_minor": 5
}
