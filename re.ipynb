{
 "cells": [
  {
   "cell_type": "markdown",
   "id": "indie-bennett",
   "metadata": {},
   "source": [
    "## Regexp Python"
   ]
  },
  {
   "cell_type": "code",
   "execution_count": 1,
   "id": "virtual-attitude",
   "metadata": {},
   "outputs": [],
   "source": [
    "import re"
   ]
  },
  {
   "cell_type": "code",
   "execution_count": 84,
   "id": "critical-swing",
   "metadata": {},
   "outputs": [],
   "source": [
    "text = \"\"\"\n",
    "Hello this is a quick walk through on regular expression in python.\n",
    "123.456.7897\n",
    "123*456*7897\n",
    "123-456-7897\n",
    "900-567-8909\n",
    "800-568-1567\n",
    "+27 652 305 879\n",
    "+263 568 189 1899\n",
    "+263-568-189-1899\n",
    "+263_568_189_1899\n",
    "+188 789 089 7816\n",
    "*188 789 089 7816\n",
    "https://www.google.com\n",
    "https://whatsapp.com\n",
    "http://localhost.edu\n",
    "https://zero-5.li\n",
    "sizaro_56@gmail.com\n",
    "zakatMario@yahoo.com\n",
    "faraicup@word.org\n",
    "faraio@green.edu\n",
    "Mr John\n",
    "Mr. Petter\n",
    "Mrs T\n",
    "Ms Gonorio\n",
    "Mrs Makosi\n",
    "\"\"\"\n",
    "sent = \"Start working with regular expression you will enjoy these.\""
   ]
  },
  {
   "cell_type": "markdown",
   "id": "current-belle",
   "metadata": {},
   "source": [
    "> We are going to use the above text to match regexp patterns"
   ]
  },
  {
   "cell_type": "code",
   "execution_count": 11,
   "id": "threaded-willow",
   "metadata": {},
   "outputs": [
    {
     "name": "stdout",
     "output_type": "stream",
     "text": [
      "<re.Match object; span=(0, 5), match='Start'>\n"
     ]
    }
   ],
   "source": [
    "pattern = re.compile(r'^start', re.I)\n",
    "matches = re.finditer(pattern, sent)\n",
    "for match in matches:\n",
    "    print(match)"
   ]
  },
  {
   "cell_type": "code",
   "execution_count": 14,
   "id": "incident-domain",
   "metadata": {},
   "outputs": [
    {
     "name": "stdout",
     "output_type": "stream",
     "text": [
      "<re.Match object; span=(53, 59), match='these.'>\n"
     ]
    }
   ],
   "source": [
    "pattern = re.compile(r'these.$', re.I)\n",
    "matches = re.finditer(pattern, sent)\n",
    "for match in matches:\n",
    "    print(match)"
   ]
  },
  {
   "cell_type": "code",
   "execution_count": 17,
   "id": "threaded-cowboy",
   "metadata": {},
   "outputs": [
    {
     "name": "stdout",
     "output_type": "stream",
     "text": [
      "<re.Match object; span=(0, 1), match='S'>\n"
     ]
    }
   ],
   "source": [
    "pattern = re.compile(r'^[start|Start]')\n",
    "matches = re.finditer(pattern, sent)\n",
    "for match in matches:\n",
    "    print(match)"
   ]
  },
  {
   "cell_type": "code",
   "execution_count": 24,
   "id": "narrative-yahoo",
   "metadata": {},
   "outputs": [
    {
     "name": "stdout",
     "output_type": "stream",
     "text": [
      "<re.Match object; span=(135, 137), match='tt'>\n",
      "<re.Match object; span=(158, 160), match='tt'>\n",
      "<re.Match object; span=(179, 181), match='tt'>\n",
      "<re.Match object; span=(200, 202), match='tt'>\n",
      "<re.Match object; span=(307, 309), match='tt'>\n"
     ]
    }
   ],
   "source": [
    "pattern = re.compile(r't{2,3}')\n",
    "matches = re.finditer(pattern, text)\n",
    "for match in matches:\n",
    "    print(match)"
   ]
  },
  {
   "cell_type": "code",
   "execution_count": 25,
   "id": "actual-demand",
   "metadata": {},
   "outputs": [
    {
     "name": "stdout",
     "output_type": "stream",
     "text": [
      "<re.Match object; span=(135, 137), match='tt'>\n",
      "<re.Match object; span=(158, 160), match='tt'>\n",
      "<re.Match object; span=(179, 181), match='tt'>\n",
      "<re.Match object; span=(200, 202), match='tt'>\n",
      "<re.Match object; span=(307, 309), match='tt'>\n"
     ]
    }
   ],
   "source": [
    "pattern = re.compile(r't{2,3}?')\n",
    "matches = re.finditer(pattern, text)\n",
    "for match in matches:\n",
    "    print(match)"
   ]
  },
  {
   "cell_type": "code",
   "execution_count": 27,
   "id": "headed-poster",
   "metadata": {},
   "outputs": [
    {
     "name": "stdout",
     "output_type": "stream",
     "text": [
      "<re.Match object; span=(293, 295), match='Mr'>\n",
      "<re.Match object; span=(301, 303), match='Mr'>\n"
     ]
    }
   ],
   "source": [
    "pattern = re.compile(r'\\bMr\\b')\n",
    "matches = re.finditer(pattern, text)\n",
    "for match in matches:\n",
    "    print(match)"
   ]
  },
  {
   "cell_type": "code",
   "execution_count": 31,
   "id": "statutory-seeker",
   "metadata": {},
   "outputs": [
    {
     "name": "stdout",
     "output_type": "stream",
     "text": [
      "<re.Match object; span=(312, 314), match='Mr'>\n",
      "<re.Match object; span=(329, 331), match='Mr'>\n"
     ]
    }
   ],
   "source": [
    "pattern = re.compile(r'\\bMr\\B')\n",
    "matches = re.finditer(pattern, text)\n",
    "for match in matches:\n",
    "    print(match)"
   ]
  },
  {
   "cell_type": "code",
   "execution_count": 48,
   "id": "stretch-transmission",
   "metadata": {},
   "outputs": [
    {
     "name": "stdout",
     "output_type": "stream",
     "text": [
      "<re.Match object; span=(95, 107), match='123-456-7897'>\n",
      "<re.Match object; span=(108, 120), match='900-567-8909'>\n",
      "<re.Match object; span=(121, 133), match='800-568-1567'>\n"
     ]
    }
   ],
   "source": [
    "pattern = re.compile(r'\\d{3}-[1-8]{3}.\\d{4}')\n",
    "matches = re.finditer(pattern, text)\n",
    "for match in matches:\n",
    "    print(match) # Matches phone number of form ddd-ddd-dddd"
   ]
  },
  {
   "cell_type": "markdown",
   "id": "apparent-kruger",
   "metadata": {},
   "source": [
    "#### Names \n",
    "> Let's create a pattert that matches names such as Mr ..."
   ]
  },
  {
   "cell_type": "code",
   "execution_count": 110,
   "id": "conditional-eleven",
   "metadata": {},
   "outputs": [
    {
     "name": "stdout",
     "output_type": "stream",
     "text": [
      "<re.Match object; span=(399, 406), match='Mr John'> ,  Mr John\n",
      "<re.Match object; span=(407, 417), match='Mr. Petter'> ,  Mr. Petter\n",
      "<re.Match object; span=(418, 423), match='Mrs T'> ,  Mrs T\n",
      "<re.Match object; span=(424, 434), match='Ms Gonorio'> ,  Ms Gonorio\n",
      "<re.Match object; span=(435, 445), match='Mrs Makosi'> ,  Mrs Makosi\n"
     ]
    }
   ],
   "source": [
    "matches = re.finditer(r'^M(r)?s?.?\\s\\w+', text, re.MULTILINE | re.I)\n",
    "\n",
    "for match in matches:\n",
    "    start, stop = match.span()\n",
    "    print(match, \", \",text[start: stop] )"
   ]
  },
  {
   "cell_type": "markdown",
   "id": "juvenile-specification",
   "metadata": {},
   "source": [
    "#### Phone numbers \n",
    "> Let's create a pattert that matches phone numbers"
   ]
  },
  {
   "cell_type": "code",
   "execution_count": 111,
   "id": "quantitative-onion",
   "metadata": {},
   "outputs": [
    {
     "name": "stdout",
     "output_type": "stream",
     "text": [
      "<re.Match object; span=(69, 81), match='123.456.7897'> ,  123.456.7897\n",
      "<re.Match object; span=(82, 94), match='123*456*7897'> ,  123*456*7897\n",
      "<re.Match object; span=(95, 107), match='123-456-7897'> ,  123-456-7897\n",
      "<re.Match object; span=(108, 120), match='900-567-8909'> ,  900-567-8909\n",
      "<re.Match object; span=(121, 133), match='800-568-1567'> ,  800-568-1567\n",
      "<re.Match object; span=(134, 145), match='+27 652 305'> ,  +27 652 305\n",
      "<re.Match object; span=(150, 162), match='+263 568 189'> ,  +263 568 189\n",
      "<re.Match object; span=(168, 180), match='+263-568-189'> ,  +263-568-189\n",
      "<re.Match object; span=(186, 198), match='+263_568_189'> ,  +263_568_189\n",
      "<re.Match object; span=(204, 216), match='+188 789 089'> ,  +188 789 089\n",
      "<re.Match object; span=(222, 234), match='*188 789 089'> ,  *188 789 089\n"
     ]
    }
   ],
   "source": [
    "pattern = re.compile(r'[+*.]?\\d{2,3}.[0-9]{3}.[0-9]{3,4}')\n",
    "\n",
    "matches = re.finditer(pattern, text)\n",
    "\n",
    "for match in matches:\n",
    "    start, stop = match.span()\n",
    "    print(match, \", \",text[start: stop] )\n"
   ]
  },
  {
   "cell_type": "markdown",
   "id": "authorized-cookie",
   "metadata": {},
   "source": [
    "#### Emails\n",
    "> Let's create a pattert that matches emails"
   ]
  },
  {
   "cell_type": "code",
   "execution_count": 127,
   "id": "seventh-seventh",
   "metadata": {},
   "outputs": [
    {
     "name": "stdout",
     "output_type": "stream",
     "text": [
      "<re.Match object; span=(323, 342), match='sizaro_56@gmail.com'> ,  sizaro_56@gmail.com\n",
      "<re.Match object; span=(343, 363), match='zakatMario@yahoo.com'> ,  zakatMario@yahoo.com\n",
      "<re.Match object; span=(364, 381), match='faraicup@word.org'> ,  faraicup@word.org\n",
      "<re.Match object; span=(382, 398), match='faraio@green.edu'> ,  faraio@green.edu\n"
     ]
    },
    {
     "data": {
      "text/plain": [
       "'\\nsizaro_56@gmail.com\\nzakatMario@yahoo.com\\nfaraicup@word.org\\nfaraio@green.edu\\n'"
      ]
     },
     "execution_count": 127,
     "metadata": {},
     "output_type": "execute_result"
    }
   ],
   "source": [
    "matches = re.finditer(r'([a-zA-Z0-9_])+@[a-zA-Z]+\\.\\w+', text)\n",
    "for match in matches:\n",
    "    start, stop = match.span()\n",
    "    print(match, \", \",text[start: stop] )"
   ]
  },
  {
   "cell_type": "markdown",
   "id": "european-notebook",
   "metadata": {},
   "source": [
    "#### Names \n",
    "> Let's create a pattert that matches urls"
   ]
  },
  {
   "cell_type": "code",
   "execution_count": 141,
   "id": "noted-subsection",
   "metadata": {},
   "outputs": [
    {
     "name": "stdout",
     "output_type": "stream",
     "text": [
      "<re.Match object; span=(240, 258), match='https://www.google'> ,  https://www.google\n",
      "<re.Match object; span=(263, 283), match='https://whatsapp.com'> ,  https://whatsapp.com\n",
      "<re.Match object; span=(284, 304), match='http://localhost.edu'> ,  http://localhost.edu\n",
      "<re.Match object; span=(305, 322), match='https://zero-5.li'> ,  https://zero-5.li\n"
     ]
    }
   ],
   "source": [
    "matches = re.finditer(r'https?://([a-zA-Z0-9-]?)+(.[a-zA-Z]+)', text)\n",
    "for match in matches:\n",
    "    start, stop = match.span()\n",
    "    print(match, \", \",text[start: stop] )"
   ]
  },
  {
   "cell_type": "markdown",
   "id": "earlier-thomas",
   "metadata": {},
   "source": [
    "#### findAll(A, B)\n",
    "> Matches all instances of an expression A in a string B and returns them in a list"
   ]
  },
  {
   "cell_type": "code",
   "execution_count": 151,
   "id": "wrapped-summit",
   "metadata": {},
   "outputs": [
    {
     "data": {
      "text/plain": [
       "'this, is, this'"
      ]
     },
     "execution_count": 151,
     "metadata": {},
     "output_type": "execute_result"
    }
   ],
   "source": [
    "matches = re.findall(r'\\w+[is]+', \"this is a regex this\")\n",
    "\n",
    "\", \".join(matches)"
   ]
  },
  {
   "cell_type": "markdown",
   "id": "broke-despite",
   "metadata": {},
   "source": [
    "#### search(A, B)\n",
    "> Matches the first instance of an expression A in a string B, and returns it as a re match object."
   ]
  },
  {
   "cell_type": "code",
   "execution_count": 155,
   "id": "widespread-audience",
   "metadata": {},
   "outputs": [
    {
     "data": {
      "text/plain": [
       "<re.Match object; span=(323, 342), match='sizaro_56@gmail.com'>"
      ]
     },
     "execution_count": 155,
     "metadata": {},
     "output_type": "execute_result"
    }
   ],
   "source": [
    "# search for the first email address in the text sting\n",
    "matches = re.search(r'([a-zA-Z0-9_])+@[a-zA-Z]+\\.\\w+', text, re.MULTILINE)\n",
    "matches"
   ]
  },
  {
   "cell_type": "markdown",
   "id": "level-forty",
   "metadata": {},
   "source": [
    "#### split(A, B)\n",
    "> Split a string B into a list using the delimiter A"
   ]
  },
  {
   "cell_type": "code",
   "execution_count": 157,
   "id": "verified-panic",
   "metadata": {},
   "outputs": [
    {
     "data": {
      "text/plain": [
       "['Th', ' ', ' a work of mag', 'c.']"
      ]
     },
     "execution_count": 157,
     "metadata": {},
     "output_type": "execute_result"
    }
   ],
   "source": [
    "matches = re.split(r'is?', \"This is a work of magic.\")\n",
    "matches"
   ]
  },
  {
   "cell_type": "markdown",
   "id": "talented-framework",
   "metadata": {},
   "source": [
    "#### re.sub(A, B, C)\n",
    "> Replace A with B in the string C."
   ]
  },
  {
   "cell_type": "code",
   "execution_count": 159,
   "id": "recognized-rogers",
   "metadata": {},
   "outputs": [
    {
     "data": {
      "text/plain": [
       "'That at a work of magic.'"
      ]
     },
     "execution_count": 159,
     "metadata": {},
     "output_type": "execute_result"
    }
   ],
   "source": [
    "matches = re.sub(r'is', 'at', \"This is a work of magic.\")\n",
    "matches"
   ]
  },
  {
   "cell_type": "markdown",
   "id": "editorial-thriller",
   "metadata": {},
   "source": [
    "#### re.match(A, B)\n",
    ">Returns the first occurrence of A in B"
   ]
  },
  {
   "cell_type": "code",
   "execution_count": 160,
   "id": "rapid-nirvana",
   "metadata": {},
   "outputs": [
    {
     "ename": "TypeError",
     "evalue": "unsupported operand type(s) for &: 'str' and 'int'",
     "output_type": "error",
     "traceback": [
      "\u001b[1;31m---------------------------------------------------------------------------\u001b[0m",
      "\u001b[1;31mTypeError\u001b[0m                                 Traceback (most recent call last)",
      "\u001b[1;32m<ipython-input-160-b44102ce4891>\u001b[0m in \u001b[0;36m<module>\u001b[1;34m\u001b[0m\n\u001b[1;32m----> 1\u001b[1;33m \u001b[0mmatches\u001b[0m \u001b[1;33m=\u001b[0m \u001b[0mre\u001b[0m\u001b[1;33m.\u001b[0m\u001b[0mmatch\u001b[0m\u001b[1;33m(\u001b[0m\u001b[1;34mr'is'\u001b[0m\u001b[1;33m,\u001b[0m \u001b[1;34m'at'\u001b[0m\u001b[1;33m,\u001b[0m \u001b[1;34m\"This is a work of magic.\"\u001b[0m\u001b[1;33m)\u001b[0m\u001b[1;33m\u001b[0m\u001b[1;33m\u001b[0m\u001b[0m\n\u001b[0m\u001b[0;32m      2\u001b[0m \u001b[0mmatches\u001b[0m\u001b[1;33m\u001b[0m\u001b[1;33m\u001b[0m\u001b[0m\n",
      "\u001b[1;32m~\\Documents\\anaconda3\\lib\\re.py\u001b[0m in \u001b[0;36mmatch\u001b[1;34m(pattern, string, flags)\u001b[0m\n\u001b[0;32m    189\u001b[0m     \"\"\"Try to apply the pattern at the start of the string, returning\n\u001b[0;32m    190\u001b[0m     a Match object, or None if no match was found.\"\"\"\n\u001b[1;32m--> 191\u001b[1;33m     \u001b[1;32mreturn\u001b[0m \u001b[0m_compile\u001b[0m\u001b[1;33m(\u001b[0m\u001b[0mpattern\u001b[0m\u001b[1;33m,\u001b[0m \u001b[0mflags\u001b[0m\u001b[1;33m)\u001b[0m\u001b[1;33m.\u001b[0m\u001b[0mmatch\u001b[0m\u001b[1;33m(\u001b[0m\u001b[0mstring\u001b[0m\u001b[1;33m)\u001b[0m\u001b[1;33m\u001b[0m\u001b[1;33m\u001b[0m\u001b[0m\n\u001b[0m\u001b[0;32m    192\u001b[0m \u001b[1;33m\u001b[0m\u001b[0m\n\u001b[0;32m    193\u001b[0m \u001b[1;32mdef\u001b[0m \u001b[0mfullmatch\u001b[0m\u001b[1;33m(\u001b[0m\u001b[0mpattern\u001b[0m\u001b[1;33m,\u001b[0m \u001b[0mstring\u001b[0m\u001b[1;33m,\u001b[0m \u001b[0mflags\u001b[0m\u001b[1;33m=\u001b[0m\u001b[1;36m0\u001b[0m\u001b[1;33m)\u001b[0m\u001b[1;33m:\u001b[0m\u001b[1;33m\u001b[0m\u001b[1;33m\u001b[0m\u001b[0m\n",
      "\u001b[1;32m~\\Documents\\anaconda3\\lib\\re.py\u001b[0m in \u001b[0;36m_compile\u001b[1;34m(pattern, flags)\u001b[0m\n\u001b[0;32m    302\u001b[0m     \u001b[1;32mif\u001b[0m \u001b[1;32mnot\u001b[0m \u001b[0msre_compile\u001b[0m\u001b[1;33m.\u001b[0m\u001b[0misstring\u001b[0m\u001b[1;33m(\u001b[0m\u001b[0mpattern\u001b[0m\u001b[1;33m)\u001b[0m\u001b[1;33m:\u001b[0m\u001b[1;33m\u001b[0m\u001b[1;33m\u001b[0m\u001b[0m\n\u001b[0;32m    303\u001b[0m         \u001b[1;32mraise\u001b[0m \u001b[0mTypeError\u001b[0m\u001b[1;33m(\u001b[0m\u001b[1;34m\"first argument must be string or compiled pattern\"\u001b[0m\u001b[1;33m)\u001b[0m\u001b[1;33m\u001b[0m\u001b[1;33m\u001b[0m\u001b[0m\n\u001b[1;32m--> 304\u001b[1;33m     \u001b[0mp\u001b[0m \u001b[1;33m=\u001b[0m \u001b[0msre_compile\u001b[0m\u001b[1;33m.\u001b[0m\u001b[0mcompile\u001b[0m\u001b[1;33m(\u001b[0m\u001b[0mpattern\u001b[0m\u001b[1;33m,\u001b[0m \u001b[0mflags\u001b[0m\u001b[1;33m)\u001b[0m\u001b[1;33m\u001b[0m\u001b[1;33m\u001b[0m\u001b[0m\n\u001b[0m\u001b[0;32m    305\u001b[0m     \u001b[1;32mif\u001b[0m \u001b[1;32mnot\u001b[0m \u001b[1;33m(\u001b[0m\u001b[0mflags\u001b[0m \u001b[1;33m&\u001b[0m \u001b[0mDEBUG\u001b[0m\u001b[1;33m)\u001b[0m\u001b[1;33m:\u001b[0m\u001b[1;33m\u001b[0m\u001b[1;33m\u001b[0m\u001b[0m\n\u001b[0;32m    306\u001b[0m         \u001b[1;32mif\u001b[0m \u001b[0mlen\u001b[0m\u001b[1;33m(\u001b[0m\u001b[0m_cache\u001b[0m\u001b[1;33m)\u001b[0m \u001b[1;33m>=\u001b[0m \u001b[0m_MAXCACHE\u001b[0m\u001b[1;33m:\u001b[0m\u001b[1;33m\u001b[0m\u001b[1;33m\u001b[0m\u001b[0m\n",
      "\u001b[1;32m~\\Documents\\anaconda3\\lib\\sre_compile.py\u001b[0m in \u001b[0;36mcompile\u001b[1;34m(p, flags)\u001b[0m\n\u001b[0;32m    762\u001b[0m     \u001b[1;32mif\u001b[0m \u001b[0misstring\u001b[0m\u001b[1;33m(\u001b[0m\u001b[0mp\u001b[0m\u001b[1;33m)\u001b[0m\u001b[1;33m:\u001b[0m\u001b[1;33m\u001b[0m\u001b[1;33m\u001b[0m\u001b[0m\n\u001b[0;32m    763\u001b[0m         \u001b[0mpattern\u001b[0m \u001b[1;33m=\u001b[0m \u001b[0mp\u001b[0m\u001b[1;33m\u001b[0m\u001b[1;33m\u001b[0m\u001b[0m\n\u001b[1;32m--> 764\u001b[1;33m         \u001b[0mp\u001b[0m \u001b[1;33m=\u001b[0m \u001b[0msre_parse\u001b[0m\u001b[1;33m.\u001b[0m\u001b[0mparse\u001b[0m\u001b[1;33m(\u001b[0m\u001b[0mp\u001b[0m\u001b[1;33m,\u001b[0m \u001b[0mflags\u001b[0m\u001b[1;33m)\u001b[0m\u001b[1;33m\u001b[0m\u001b[1;33m\u001b[0m\u001b[0m\n\u001b[0m\u001b[0;32m    765\u001b[0m     \u001b[1;32melse\u001b[0m\u001b[1;33m:\u001b[0m\u001b[1;33m\u001b[0m\u001b[1;33m\u001b[0m\u001b[0m\n\u001b[0;32m    766\u001b[0m         \u001b[0mpattern\u001b[0m \u001b[1;33m=\u001b[0m \u001b[1;32mNone\u001b[0m\u001b[1;33m\u001b[0m\u001b[1;33m\u001b[0m\u001b[0m\n",
      "\u001b[1;32m~\\Documents\\anaconda3\\lib\\sre_parse.py\u001b[0m in \u001b[0;36mparse\u001b[1;34m(str, flags, state)\u001b[0m\n\u001b[0;32m    946\u001b[0m \u001b[1;33m\u001b[0m\u001b[0m\n\u001b[0;32m    947\u001b[0m     \u001b[1;32mtry\u001b[0m\u001b[1;33m:\u001b[0m\u001b[1;33m\u001b[0m\u001b[1;33m\u001b[0m\u001b[0m\n\u001b[1;32m--> 948\u001b[1;33m         \u001b[0mp\u001b[0m \u001b[1;33m=\u001b[0m \u001b[0m_parse_sub\u001b[0m\u001b[1;33m(\u001b[0m\u001b[0msource\u001b[0m\u001b[1;33m,\u001b[0m \u001b[0mstate\u001b[0m\u001b[1;33m,\u001b[0m \u001b[0mflags\u001b[0m \u001b[1;33m&\u001b[0m \u001b[0mSRE_FLAG_VERBOSE\u001b[0m\u001b[1;33m,\u001b[0m \u001b[1;36m0\u001b[0m\u001b[1;33m)\u001b[0m\u001b[1;33m\u001b[0m\u001b[1;33m\u001b[0m\u001b[0m\n\u001b[0m\u001b[0;32m    949\u001b[0m     \u001b[1;32mexcept\u001b[0m \u001b[0mVerbose\u001b[0m\u001b[1;33m:\u001b[0m\u001b[1;33m\u001b[0m\u001b[1;33m\u001b[0m\u001b[0m\n\u001b[0;32m    950\u001b[0m         \u001b[1;31m# the VERBOSE flag was switched on inside the pattern.  to be\u001b[0m\u001b[1;33m\u001b[0m\u001b[1;33m\u001b[0m\u001b[1;33m\u001b[0m\u001b[0m\n",
      "\u001b[1;31mTypeError\u001b[0m: unsupported operand type(s) for &: 'str' and 'int'"
     ]
    }
   ],
   "source": [
    "matches = re.match(r'is', 'at', \"This is a work of magic.\")\n",
    "matches"
   ]
  },
  {
   "cell_type": "code",
   "execution_count": null,
   "id": "apparent-sight",
   "metadata": {},
   "outputs": [],
   "source": []
  }
 ],
 "metadata": {
  "kernelspec": {
   "display_name": "Python 3",
   "language": "python",
   "name": "python3"
  },
  "language_info": {
   "codemirror_mode": {
    "name": "ipython",
    "version": 3
   },
   "file_extension": ".py",
   "mimetype": "text/x-python",
   "name": "python",
   "nbconvert_exporter": "python",
   "pygments_lexer": "ipython3",
   "version": "3.8.5"
  }
 },
 "nbformat": 4,
 "nbformat_minor": 5
}
